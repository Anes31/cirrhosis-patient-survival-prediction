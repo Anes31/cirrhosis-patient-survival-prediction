{
 "cells": [
  {
   "cell_type": "code",
   "execution_count": 1,
   "metadata": {
    "_cell_guid": "b1076dfc-b9ad-4769-8c92-a6c4dae69d19",
    "_uuid": "8f2839f25d086af736a60e9eeb907d3b93b6e0e5",
    "tags": []
   },
   "outputs": [],
   "source": [
    "import numpy as np\n",
    "import pandas as pd\n",
    "\n",
    "from sklearn.pipeline import make_pipeline\n",
    "from sklearn.datasets import make_classification\n",
    "from sklearn.base import BaseEstimator, TransformerMixin\n",
    "from sklearn.preprocessing import OneHotEncoder, StandardScaler, LabelEncoder, PowerTransformer\n",
    "from sklearn.model_selection import cross_val_score, train_test_split, KFold, cross_val_predict\n",
    "from sklearn.ensemble import RandomForestClassifier, VotingClassifier\n",
    "from sklearn.metrics import log_loss, accuracy_score\n",
    "\n",
    "import tensorflow as tf\n",
    "from tensorflow.keras.models import Sequential\n",
    "from tensorflow.keras.layers import Dense, Flatten, Dropout\n",
    "from keras.regularizers import l2\n",
    "from keras.optimizers import Adam\n",
    "from keras_tuner import RandomSearch\n",
    "from keras_tuner import Objective\n",
    "from tensorflow.keras.callbacks import EarlyStopping\n",
    "from tensorflow.keras.utils import to_categorical\n",
    "\n",
    "from sklearn.metrics import confusion_matrix"
   ]
  },
  {
   "cell_type": "code",
   "execution_count": 2,
   "metadata": {
    "tags": []
   },
   "outputs": [],
   "source": [
    "train = pd.read_csv('train.csv')\n",
    "original = pd.read_csv('original.csv')\n",
    "test = pd.read_csv('test.csv')\n",
    "ss = pd.read_csv('sample_submission.csv')"
   ]
  },
  {
   "cell_type": "code",
   "execution_count": 3,
   "metadata": {
    "tags": []
   },
   "outputs": [],
   "source": [
    "def process(train, test, original):\n",
    "    df_train = train.drop(['id', 'Status'], axis=1)\n",
    "    original = original.dropna()\n",
    "    df_original = original.drop(['ID', 'Status'], axis=1)\n",
    "    df_train = pd.concat([df_train, df_original])\n",
    "    df_test = test.drop(['id'], axis=1)\n",
    "    \n",
    "    # Categorical Cols\n",
    "    # Train\n",
    "    categorical_cols = ['Drug', 'Sex', 'Ascites', 'Hepatomegaly', 'Spiders', 'Edema', 'Stage']\n",
    "    encoder = OneHotEncoder(drop='first')\n",
    "    encoder.fit(df_train[categorical_cols])\n",
    "    df_train_cat = pd.DataFrame(encoder.transform(df_train[categorical_cols]).toarray(), columns=encoder.get_feature_names_out())\n",
    "    # Test\n",
    "    df_test_cat = pd.DataFrame(encoder.transform(df_test[categorical_cols]).toarray(), columns=encoder.get_feature_names_out())\n",
    "    \n",
    "    # Numerical Cols\n",
    "    # Train\n",
    "    df_train_num = df_train.drop(categorical_cols, axis=1)\n",
    "    df_train_num = np.log1p(df_train_num)\n",
    "    scaler = StandardScaler()\n",
    "    df_train_num = pd.DataFrame(scaler.fit_transform(df_train_num), columns=df_train_num.columns)\n",
    "    p_transformer = PowerTransformer()\n",
    "    df_train_num = pd.DataFrame(p_transformer.fit_transform(df_train_num), columns=df_train_num.columns)\n",
    "    # Test\n",
    "    df_test_num = df_test.drop(categorical_cols, axis=1)\n",
    "    df_test_num = np.log1p(df_test_num)\n",
    "    df_test_num = pd.DataFrame(scaler.transform(df_test_num), columns=df_test_num.columns)\n",
    "    df_test_num = pd.DataFrame(p_transformer.transform(df_test_num), columns=df_test_num.columns)\n",
    "    \n",
    "    # Combine Num/Cat\n",
    "    train_final = pd.concat([df_train_num, df_train_cat], axis=1)\n",
    "    test_final = pd.concat([df_test_num, df_test_cat], axis=1)\n",
    "    \n",
    "    # Feature Engineering\n",
    "    # https://www.kaggle.com/code/ashishkumarak/ps3e26-liver-cirrhosis-survival-prediction#%F0%9F%92%BB-Feature-Engineering\n",
    "    threshold_platelets = 150\n",
    "    train_final['thrombocytopenia'] = np.where(train_final['Platelets'] < threshold_platelets, 1, 0)\n",
    "    test_final['thrombocytopenia'] = np.where(test_final['Platelets'] < threshold_platelets, 1, 0)\n",
    "    threshold_alk_phos_upper = 147  # Upper limit of normal range\n",
    "    threshold_alk_phos_lower = 44   # Lower limit of normal range\n",
    "    train_final['elevated_alk_phos'] = np.where((train_final['Alk_Phos'] > threshold_alk_phos_upper) | (train_final['Alk_Phos'] < threshold_alk_phos_lower), 1, 0)\n",
    "    test_final['elevated_alk_phos'] = np.where((test_final['Alk_Phos'] > threshold_alk_phos_upper) | (test_final['Alk_Phos'] < threshold_alk_phos_lower), 1, 0)\n",
    "    normal_copper_range = (62, 140)\n",
    "    train_final['normal_copper'] = np.where((train_final['Copper'] >= normal_copper_range[0]) & (train_final['Copper'] <= normal_copper_range[1]), 1, 0)\n",
    "    test_final['normal_copper'] = np.where((test_final['Copper'] >= normal_copper_range[0]) & (test_final['Copper'] <= normal_copper_range[1]), 1, 0)\n",
    "    normal_albumin_range = (3.4, 5.4)\n",
    "    train_final['normal_albumin'] = np.where((train_final['Albumin'] >= normal_albumin_range[0]) & (train_final['Albumin'] <= normal_albumin_range[1]), 1, 0)\n",
    "    test_final['normal_albumin'] = np.where((test_final['Albumin'] >= normal_albumin_range[0]) & (test_final['Albumin'] <= normal_albumin_range[1]), 1, 0)\n",
    "    normal_bilirubin_range = (0.2, 1.2)\n",
    "    train_final['normal_bilirubin'] = np.where((train_final['Bilirubin'] >= normal_bilirubin_range[0]) & (train_final['Bilirubin'] <= normal_bilirubin_range[1]), 1, 0)\n",
    "    test_final['normal_bilirubin'] = np.where((test_final['Bilirubin'] >= normal_bilirubin_range[0]) & (test_final['Bilirubin'] <= normal_bilirubin_range[1]), 1, 0)\n",
    "    \n",
    "    # Encode Target\n",
    "    le_encoder = LabelEncoder()\n",
    "    y = le_encoder.fit_transform(train.Status)\n",
    "    y_original = le_encoder.fit_transform(original.Status)\n",
    "    \n",
    "    # Split X, y\n",
    "    X_train = train_final\n",
    "    y_train = np.concatenate([y, y_original])\n",
    "    \n",
    "    X_test = test_final\n",
    "    \n",
    "    return X_train, y_train, X_test"
   ]
  },
  {
   "cell_type": "code",
   "execution_count": 4,
   "metadata": {},
   "outputs": [],
   "source": [
    "X, y, test_final = process(train, test, original)\n",
    "cv = KFold(n_splits=5, shuffle=True, random_state=0)"
   ]
  },
  {
   "cell_type": "code",
   "execution_count": 5,
   "metadata": {},
   "outputs": [],
   "source": [
    "# Define your build_model function\n",
    "def build_model(hp):\n",
    "    model = Sequential()\n",
    "    model.add(Dense(units=hp.Int('units_input', min_value=32, max_value=512, step=32), activation='relu', input_dim=X.shape[1], kernel_regularizer=l2(hp.Float('learning_rate', min_value=1e-4, max_value=1e-1, sampling=\"log\"))))\n",
    "    for i in range(hp.Int('num_hidden_layers', min_value=0, max_value=3)):\n",
    "        model.add(Dense(units=hp.Int(f'units_{i}', min_value=32, max_value=512, step=32), activation=hp.Choice(f'activation_{i}', values=['relu', 'sigmoid', 'tanh'])))\n",
    "    model.add(Dense(3, activation='softmax'))\n",
    "    \n",
    "    model.compile(optimizer=Adam(learning_rate=hp.Float('learning_rate', min_value=1e-4, max_value=1e-2, sampling=\"log\")), \n",
    "                  loss='categorical_crossentropy',\n",
    "                  metrics=['accuracy'])\n",
    "    return model"
   ]
  },
  {
   "cell_type": "code",
   "execution_count": 6,
   "metadata": {},
   "outputs": [],
   "source": [
    "X_train, X_test, y_train, y_test = train_test_split(X, y, test_size=.1, shuffle=True, random_state=0)"
   ]
  },
  {
   "cell_type": "code",
   "execution_count": 7,
   "metadata": {},
   "outputs": [
    {
     "name": "stdout",
     "output_type": "stream",
     "text": [
      "Trial 100 Complete [00h 00m 09s]\n",
      "val_loss: 0.8375592430432638\n",
      "\n",
      "Best val_loss So Far: 0.46925535798072815\n",
      "Total elapsed time: 00h 18m 04s\n",
      "INFO:tensorflow:Oracle triggered exit\n"
     ]
    }
   ],
   "source": [
    "y_train_one_hot = to_categorical(y_train, num_classes=3)\n",
    "\n",
    "early_stopping = EarlyStopping(monitor='val_loss', patience=3, restore_best_weights=True)\n",
    "\n",
    "tuner = RandomSearch(build_model, \n",
    "                     objective=Objective(\"val_loss\", direction=\"min\"),\n",
    "                     max_trials=100,\n",
    "                     executions_per_trial=3,\n",
    "                     directory=f'C:/Users/Anes3/OneDrive/Bureau/cirrhosis-patient-survival-prediction/cirrhosis-patient-survival-prediction/keras_tuner_dir',\n",
    "                     project_name=f'my_hyperparameter_search'\n",
    "        )\n",
    "\n",
    "tuner.search(X_train, y_train_one_hot,\n",
    "             epochs=10,\n",
    "             batch_size=32,\n",
    "             validation_data=(X_test, to_categorical(y_test, num_classes=3)),  # Use one-hot encoded labels\n",
    "             callbacks=[early_stopping])"
   ]
  },
  {
   "cell_type": "code",
   "execution_count": 11,
   "metadata": {},
   "outputs": [
    {
     "name": "stdout",
     "output_type": "stream",
     "text": [
      "Epoch 1/10\n",
      "231/231 [==============================] - 1s 2ms/step - loss: 0.5605 - accuracy: 0.7896 - val_loss: 0.4922 - val_accuracy: 0.8205\n",
      "Epoch 2/10\n",
      "231/231 [==============================] - 0s 2ms/step - loss: 0.5045 - accuracy: 0.8102 - val_loss: 0.4785 - val_accuracy: 0.8278\n",
      "Epoch 3/10\n",
      "231/231 [==============================] - 0s 2ms/step - loss: 0.4831 - accuracy: 0.8202 - val_loss: 0.4814 - val_accuracy: 0.8217\n",
      "Epoch 4/10\n",
      "231/231 [==============================] - 0s 2ms/step - loss: 0.4710 - accuracy: 0.8240 - val_loss: 0.4829 - val_accuracy: 0.8303\n",
      "Epoch 5/10\n",
      "231/231 [==============================] - 0s 2ms/step - loss: 0.4585 - accuracy: 0.8256 - val_loss: 0.4796 - val_accuracy: 0.8254\n",
      "Epoch 6/10\n",
      "231/231 [==============================] - 0s 2ms/step - loss: 0.4427 - accuracy: 0.8310 - val_loss: 0.4819 - val_accuracy: 0.8132\n",
      "Epoch 7/10\n",
      "231/231 [==============================] - 0s 2ms/step - loss: 0.4283 - accuracy: 0.8400 - val_loss: 0.4861 - val_accuracy: 0.8120\n",
      "Epoch 8/10\n",
      "231/231 [==============================] - 0s 2ms/step - loss: 0.4166 - accuracy: 0.8472 - val_loss: 0.4874 - val_accuracy: 0.8095\n",
      "Epoch 9/10\n",
      "231/231 [==============================] - 0s 2ms/step - loss: 0.4010 - accuracy: 0.8491 - val_loss: 0.4920 - val_accuracy: 0.8132\n",
      "Epoch 10/10\n",
      "231/231 [==============================] - 0s 2ms/step - loss: 0.3810 - accuracy: 0.8583 - val_loss: 0.4813 - val_accuracy: 0.8266\n",
      "26/26 [==============================] - 0s 878us/step\n"
     ]
    }
   ],
   "source": [
    "best_model = tuner.hypermodel.build(tuner.get_best_hyperparameters(num_trials=1)[0])\n",
    "best_model.fit(X_train, to_categorical(y_train, num_classes=3), epochs=10, batch_size=32, validation_data=(X_test, to_categorical(y_test, num_classes=3)))\n",
    "\n",
    "# Use the trained model to predict on the test data\n",
    "y_pred = best_model.predict(X_test)"
   ]
  },
  {
   "cell_type": "code",
   "execution_count": 12,
   "metadata": {},
   "outputs": [
    {
     "name": "stdout",
     "output_type": "stream",
     "text": [
      "Best Hyperparameters:\n",
      "{'units_input': 448, 'learning_rate': 0.00027788857041120114, 'num_hidden_layers': 2, 'units_0': 448, 'activation_0': 'relu', 'units_1': 192, 'activation_1': 'relu', 'units_2': 32, 'activation_2': 'relu'}\n"
     ]
    }
   ],
   "source": [
    "# Assuming you have completed the search\n",
    "best_trials = tuner.oracle.get_best_trials(1)[0]\n",
    "\n",
    "# Get the best hyperparameters\n",
    "best_hyperparameters = best_trials.hyperparameters.values\n",
    "\n",
    "# Display the best hyperparameters\n",
    "print(\"Best Hyperparameters:\")\n",
    "print(best_hyperparameters)"
   ]
  },
  {
   "cell_type": "code",
   "execution_count": 13,
   "metadata": {},
   "outputs": [
    {
     "data": {
      "text/plain": [
       "0.4691603233263094"
      ]
     },
     "execution_count": 13,
     "metadata": {},
     "output_type": "execute_result"
    }
   ],
   "source": [
    "log_loss(to_categorical(y_test, num_classes=3), y_pred)"
   ]
  },
  {
   "cell_type": "code",
   "execution_count": 24,
   "metadata": {},
   "outputs": [
    {
     "name": "stdout",
     "output_type": "stream",
     "text": [
      "Epoch 1/10\n",
      "256/256 [==============================] - 1s 2ms/step - loss: 0.5502 - accuracy: 0.7939\n",
      "Epoch 2/10\n",
      "256/256 [==============================] - 0s 2ms/step - loss: 0.4981 - accuracy: 0.8113\n",
      "Epoch 3/10\n",
      "256/256 [==============================] - 1s 2ms/step - loss: 0.4788 - accuracy: 0.8204\n",
      "Epoch 4/10\n",
      "256/256 [==============================] - 0s 2ms/step - loss: 0.4644 - accuracy: 0.8268\n",
      "Epoch 5/10\n",
      "256/256 [==============================] - 0s 2ms/step - loss: 0.4510 - accuracy: 0.8290\n",
      "Epoch 6/10\n",
      "256/256 [==============================] - 0s 2ms/step - loss: 0.4413 - accuracy: 0.8338\n",
      "Epoch 7/10\n",
      "256/256 [==============================] - 0s 2ms/step - loss: 0.4218 - accuracy: 0.8435\n",
      "Epoch 8/10\n",
      "256/256 [==============================] - 0s 2ms/step - loss: 0.4101 - accuracy: 0.8470\n",
      "Epoch 9/10\n",
      "256/256 [==============================] - 0s 2ms/step - loss: 0.3927 - accuracy: 0.8517\n",
      "Epoch 10/10\n",
      "256/256 [==============================] - 0s 2ms/step - loss: 0.3770 - accuracy: 0.8625\n",
      "165/165 [==============================] - 0s 997us/step\n"
     ]
    }
   ],
   "source": [
    "final_model = tuner.hypermodel.build(tuner.get_best_hyperparameters(num_trials=1)[0])\n",
    "final_model.fit(X, to_categorical(y, num_classes=3), epochs=10, batch_size=32)\n",
    "final_predictions = final_model.predict(test_final)"
   ]
  },
  {
   "cell_type": "code",
   "execution_count": 25,
   "metadata": {},
   "outputs": [],
   "source": [
    "res = pd.DataFrame(final_predictions, columns=['Status_C', 'Status_CL', 'Status_D'])\n",
    "res['id'] = test.id\n",
    "res = res[['id', 'Status_C', 'Status_CL', 'Status_D']]\n",
    "res.to_csv('submission_regul.csv', index=False)"
   ]
  },
  {
   "cell_type": "code",
   "execution_count": null,
   "metadata": {},
   "outputs": [],
   "source": []
  }
 ],
 "metadata": {
  "kaggle": {
   "accelerator": "none",
   "dataSources": [
    {
     "databundleVersionId": 7000181,
     "sourceId": 60893,
     "sourceType": "competition"
    }
   ],
   "dockerImageVersionId": 30626,
   "isGpuEnabled": false,
   "isInternetEnabled": true,
   "language": "python",
   "sourceType": "notebook"
  },
  "kernelspec": {
   "display_name": "Python 3 (ipykernel)",
   "language": "python",
   "name": "python3"
  },
  "language_info": {
   "codemirror_mode": {
    "name": "ipython",
    "version": 3
   },
   "file_extension": ".py",
   "mimetype": "text/x-python",
   "name": "python",
   "nbconvert_exporter": "python",
   "pygments_lexer": "ipython3",
   "version": "3.7.15"
  }
 },
 "nbformat": 4,
 "nbformat_minor": 4
}
