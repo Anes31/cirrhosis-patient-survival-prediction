{
 "cells": [
  {
   "cell_type": "code",
   "execution_count": 1,
   "metadata": {
    "_cell_guid": "b1076dfc-b9ad-4769-8c92-a6c4dae69d19",
    "_uuid": "8f2839f25d086af736a60e9eeb907d3b93b6e0e5",
    "tags": []
   },
   "outputs": [],
   "source": [
    "import numpy as np\n",
    "import pandas as pd\n",
    "\n",
    "from sklearn.preprocessing import OneHotEncoder, StandardScaler, LabelEncoder, PowerTransformer\n",
    "from sklearn.model_selection import cross_val_score, train_test_split, KFold\n",
    "from sklearn.ensemble import RandomForestClassifier, VotingClassifier\n",
    "from sklearn.metrics import accuracy_score, log_loss\n",
    "\n",
    "from lightgbm import LGBMClassifier\n",
    "from xgboost import XGBClassifier\n",
    "from catboost import CatBoostClassifier\n",
    "\n",
    "import optuna"
   ]
  },
  {
   "cell_type": "code",
   "execution_count": 2,
   "metadata": {
    "tags": []
   },
   "outputs": [],
   "source": [
    "train = pd.read_csv('train.csv')\n",
    "original = pd.read_csv('original.csv')\n",
    "test = pd.read_csv('test.csv')\n",
    "ss = pd.read_csv('sample_submission.csv')"
   ]
  },
  {
   "cell_type": "code",
   "execution_count": 3,
   "metadata": {
    "tags": []
   },
   "outputs": [],
   "source": [
    "def process(train, test, original):\n",
    "    df_train = train.drop(['id', 'Status'], axis=1)\n",
    "    original = original.dropna()\n",
    "    df_original = original.drop(['ID', 'Status'], axis=1)\n",
    "    df_train = pd.concat([df_train, df_original])\n",
    "    df_test = test.drop(['id'], axis=1)\n",
    "    \n",
    "    # Categorical Cols\n",
    "    # Train\n",
    "    categorical_cols = ['Drug', 'Sex', 'Ascites', 'Hepatomegaly', 'Spiders', 'Edema', 'Stage']\n",
    "    encoder = OneHotEncoder(drop='first')\n",
    "    encoder.fit(df_train[categorical_cols])\n",
    "    df_train_cat = pd.DataFrame(encoder.transform(df_train[categorical_cols]).toarray(), columns=encoder.get_feature_names_out())\n",
    "    # Test\n",
    "    df_test_cat = pd.DataFrame(encoder.transform(df_test[categorical_cols]).toarray(), columns=encoder.get_feature_names_out())\n",
    "    \n",
    "    # Numerical Cols\n",
    "    # Train\n",
    "    df_train_num = df_train.drop(categorical_cols, axis=1)\n",
    "    scaler = StandardScaler()\n",
    "    scaler.fit(df_train_num)\n",
    "    df_train_num = pd.DataFrame(scaler.transform(df_train_num), columns=df_train_num.columns)\n",
    "    # Test\n",
    "    df_test_num = df_test.drop(categorical_cols, axis=1)\n",
    "    df_test_num = pd.DataFrame(scaler.transform(df_test_num), columns=df_test_num.columns)\n",
    "    \n",
    "    # Combine Num/Cat\n",
    "    train_final = pd.concat([df_train_num, df_train_cat], axis=1)\n",
    "    test_final = pd.concat([df_test_num, df_test_cat], axis=1)\n",
    "    \n",
    "    # Encode Target\n",
    "    le_encoder = LabelEncoder()\n",
    "    y = le_encoder.fit_transform(train.Status)\n",
    "    y_original = le_encoder.fit_transform(original.Status)\n",
    "    \n",
    "    # Split X, y\n",
    "    X_train = train_final\n",
    "    y_train = np.concatenate([y, y_original])\n",
    "    \n",
    "    X_test = test_final\n",
    "    \n",
    "    return X_train, y_train, X_test"
   ]
  },
  {
   "cell_type": "code",
   "execution_count": 6,
   "metadata": {
    "tags": []
   },
   "outputs": [],
   "source": [
    "X, y, test_final = process(train, test, original)"
   ]
  },
  {
   "cell_type": "code",
   "execution_count": 7,
   "metadata": {
    "tags": []
   },
   "outputs": [],
   "source": [
    "# X_train, X_test, y_train, y_test = train_test_split(X, y, test_size=.2, random_state=0)\n",
    "cv = KFold(n_splits=5, shuffle=True, random_state=0)"
   ]
  },
  {
   "cell_type": "code",
   "execution_count": 8,
   "metadata": {},
   "outputs": [
    {
     "name": "stdout",
     "output_type": "stream",
     "text": [
      "RF Log Loss: 0.5103886681658997\n",
      "XGB Log Loss: 0.49322068184159873\n",
      "LGBM Log Loss: 0.4553787702144372\n",
      "CatBoost Log Loss: 0.456030211002837\n"
     ]
    }
   ],
   "source": [
    "rf = RandomForestClassifier()\n",
    "rf.fit(X, y)\n",
    "\n",
    "# y_pred = rf.predict_proba(X_test)\n",
    "print(f\"RF Log Loss: {abs(cross_val_score(rf, X, y, scoring='neg_log_loss', cv=cv).mean())}\")\n",
    "\n",
    "xgb = XGBClassifier(verbosity=0, use_label_encoder=False)\n",
    "xgb.fit(X, y)\n",
    "\n",
    "print(f\"XGB Log Loss: {abs(cross_val_score(xgb, X, y, scoring='neg_log_loss', cv=cv).mean())}\")\n",
    "\n",
    "lgbm = LGBMClassifier(verbose=-1)\n",
    "lgbm.fit(X, y)\n",
    "\n",
    "print(f\"LGBM Log Loss: {abs(cross_val_score(lgbm, X, y, scoring='neg_log_loss', cv=cv).mean())}\")\n",
    "\n",
    "catboost = CatBoostClassifier(verbose=0)\n",
    "catboost.fit(X, y)\n",
    "\n",
    "print(f\"CatBoost Log Loss: {abs(cross_val_score(catboost, X, y, scoring='neg_log_loss', cv=cv).mean())}\")"
   ]
  },
  {
   "cell_type": "code",
   "execution_count": 9,
   "metadata": {
    "tags": []
   },
   "outputs": [],
   "source": [
    "def rf(trial):\n",
    "    max_depth = trial.suggest_int('max_depth', 1, 100)\n",
    "    n_estimators = trial.suggest_int('n_estimators', 10, 500)\n",
    "    min_samples_leaf = trial.suggest_int('min_samples_leaf', 1, 100)\n",
    "    min_samples_split = trial.suggest_int('min_samples_split', 2, 100)\n",
    "    random_state = 0\n",
    "          \n",
    "    model = RandomForestClassifier(\n",
    "        max_depth=max_depth,\n",
    "        n_estimators=n_estimators,\n",
    "        min_samples_leaf=min_samples_leaf,\n",
    "        min_samples_split=min_samples_split,\n",
    "        random_state=random_state\n",
    "    )\n",
    "    \n",
    "    model.fit(X, y)\n",
    "    \n",
    "    cv_scores = abs(cross_val_score(model, X, y, scoring='neg_log_loss', cv=cv))\n",
    "    \n",
    "    return np.mean(cv_scores)\n",
    "\n",
    "def xgb(trial):\n",
    "    params = {\n",
    "        'n_estimators': trial.suggest_int('n_estimators', 50, 1000),\n",
    "        'max_depth': trial.suggest_int('max_depth', 3, 10),\n",
    "        'learning_rate': trial.suggest_float('learning_rate', 0.001, 0.1, log=True),\n",
    "        'subsample': trial.suggest_float('subsample', 0.1, 1),\n",
    "        'colsample_bytree': trial.suggest_float('colsample_bytree', 0.1, 1),\n",
    "        'reg_alpha': trial.suggest_float('reg_alpha', 1e-10, 1, log=True),\n",
    "        'reg_lambda': trial.suggest_float('reg_lambda', 1e-10, 1, log=True),\n",
    "        'gamma': trial.suggest_float('gamma', 1e-10, 1, log=True),\n",
    "        'min_child_weight': trial.suggest_int('min_child_weight', 1, 10),\n",
    "        'objective': 'mlogloss', \n",
    "        'eval_metric': 'logloss',\n",
    "        'verbosity': 0,\n",
    "        'use_label_encoder': False,\n",
    "        'random_state': 0,\n",
    "        'n_jobs': -1\n",
    "    }\n",
    "    \n",
    "    model = XGBClassifier(**params)\n",
    "\n",
    "    model.fit(X, y)\n",
    "    \n",
    "    cv_scores = abs(cross_val_score(model, X, y, scoring='neg_log_loss', cv=cv))\n",
    "    \n",
    "    return np.mean(cv_scores)\n",
    "\n",
    "def lgbm(trial):\n",
    "    params = {\n",
    "        'objective': 'multiclass',\n",
    "        'boosting_type': 'gbdt',\n",
    "        'metric': 'multi_logloss',\n",
    "        'n_estimators': trial.suggest_int('n_estimators', 10, 500),\n",
    "        'max_depth': trial.suggest_int('max_depth', 1, 50),\n",
    "        'num_leaves': trial.suggest_int('num_leaves', 2, 100),\n",
    "        'learning_rate': trial.suggest_float('learning_rate', 0.001, 0.1, log=True),\n",
    "        'min_child_samples': trial.suggest_int('min_child_samples', 1, 100),\n",
    "        'subsample': trial.suggest_float('subsample', 0.1, 1),\n",
    "        'colsample_bytree': trial.suggest_float('colsample_bytree', 0.1, 1),\n",
    "        'reg_alpha': trial.suggest_float('reg_alpha', 1e-9, 10.0, log=True),\n",
    "        'reg_lambda': trial.suggest_float('reg_lambda', 1e-9, 10.0, log=True),\n",
    "        'verbose': -1,\n",
    "        'random_state': 0\n",
    "    }\n",
    "\n",
    "    model = LGBMClassifier(**params)\n",
    "\n",
    "    model.fit(X, y)\n",
    "    \n",
    "    cv_scores = abs(cross_val_score(model, X, y, scoring='neg_log_loss', cv=cv))\n",
    "    \n",
    "    return np.mean(cv_scores)\n",
    "\n",
    "def catboost(trial):\n",
    "    params = {\n",
    "        'iterations': trial.suggest_int('iterations', 100, 1000),\n",
    "        'depth': trial.suggest_int('depth', 1, 10),\n",
    "        'learning_rate': trial.suggest_float('learning_rate', 0.01, 0.1),\n",
    "        'l2_leaf_reg': trial.suggest_float('l2_leaf_reg', 0.1, 10.0),\n",
    "        'random_seed': 0,\n",
    "        'loss_function': 'MultiClass',\n",
    "        'eval_metric': 'MultiClass',\n",
    "        'logging_level': 'Silent'\n",
    "    }\n",
    "    \n",
    "    model = CatBoostClassifier(**params)\n",
    "    \n",
    "    model.fit(X, y)\n",
    "    \n",
    "    cv_scores = abs(cross_val_score(model, X, y, scoring='neg_log_loss', cv=cv))\n",
    "    \n",
    "    return np.mean(cv_scores)"
   ]
  },
  {
   "cell_type": "code",
   "execution_count": 10,
   "metadata": {},
   "outputs": [],
   "source": [
    "# study = optuna.create_study(direction='minimize')\n",
    "# optuna.logging.set_verbosity(optuna.logging.WARNING)\n",
    "# study.optimize(rf, n_trials=100)\n",
    "# study.best_params"
   ]
  },
  {
   "cell_type": "code",
   "execution_count": 11,
   "metadata": {
    "tags": []
   },
   "outputs": [],
   "source": [
    "# study = optuna.create_study(direction='minimize')\n",
    "# optuna.logging.set_verbosity(optuna.logging.WARNING)\n",
    "# study.optimize(xgb, n_trials=100)\n",
    "# study.best_params"
   ]
  },
  {
   "cell_type": "code",
   "execution_count": 12,
   "metadata": {
    "tags": []
   },
   "outputs": [],
   "source": [
    "# study = optuna.create_study(direction='minimize')\n",
    "# optuna.logging.set_verbosity(optuna.logging.WARNING)\n",
    "# study.optimize(lgbm, n_trials=100)\n",
    "# study.best_params"
   ]
  },
  {
   "cell_type": "code",
   "execution_count": 13,
   "metadata": {
    "tags": []
   },
   "outputs": [],
   "source": [
    "# study = optuna.create_study(direction='minimize')\n",
    "# optuna.logging.set_verbosity(optuna.logging.WARNING)\n",
    "# study.optimize(catboost, n_trials=100)\n",
    "# study.best_params"
   ]
  },
  {
   "cell_type": "code",
   "execution_count": 14,
   "metadata": {},
   "outputs": [],
   "source": [
    "rf_params = {\n",
    "    'max_depth': 51,\n",
    "    'n_estimators': 441,\n",
    "    'min_samples_leaf': 3,\n",
    "    'min_samples_split': 4\n",
    "}\n",
    "\n",
    "xgb_params = {\n",
    "    'n_estimators': 493,\n",
    "    'max_depth': 10,\n",
    "    'learning_rate': 0.029422764737469166,\n",
    "    'subsample': 0.9673567402087949,\n",
    "    'colsample_bytree': 0.10677749949795919,\n",
    "    'reg_alpha': 0.7911540877278536,\n",
    "    'reg_lambda': 0.019175317980448966,\n",
    "    'gamma': 1.437410086537951e-09,\n",
    "    'min_child_weight': 2,\n",
    "    \n",
    "    'objective': 'mlogloss', \n",
    "    'eval_metric': 'logloss',\n",
    "    'verbosity': 0,\n",
    "    'use_label_encoder': False\n",
    "}\n",
    "\n",
    "lgbm_params = {\n",
    "    'n_estimators': 395,\n",
    "    'max_depth': 38,\n",
    "    'num_leaves': 95,\n",
    "    'learning_rate': 0.02169163462617219,\n",
    "    'min_child_samples': 72,\n",
    "    'subsample': 0.8499041194587593,\n",
    "    'colsample_bytree': 0.12198327413783293,\n",
    "    'reg_alpha': 2.4245399917324964e-07,\n",
    "    'reg_lambda': 3.515465615561991e-07,\n",
    "    'verbose': -1\n",
    "}\n",
    "\n",
    "catboost_params = {\n",
    "    'iterations': 866,\n",
    "    'depth': 5,\n",
    "    'learning_rate': 0.055409157348978444,\n",
    "    'l2_leaf_reg': 3.0358925329416366,\n",
    "    \n",
    "    'loss_function': 'MultiClass',\n",
    "    'eval_metric': 'MultiClass',\n",
    "    'logging_level': 'Silent'\n",
    "}"
   ]
  },
  {
   "cell_type": "code",
   "execution_count": 15,
   "metadata": {},
   "outputs": [],
   "source": [
    "rf_model = RandomForestClassifier(**rf_params)\n",
    "xgb_model = XGBClassifier(**xgb_params)\n",
    "lgbm_model = LGBMClassifier(**lgbm_params)\n",
    "catboost_model = CatBoostClassifier(**catboost_params)"
   ]
  },
  {
   "cell_type": "code",
   "execution_count": 16,
   "metadata": {},
   "outputs": [],
   "source": [
    "models = {\n",
    "    'rf': rf_model,\n",
    "    'xgb': xgb_model,\n",
    "    'ltgbm': lgbm_model,\n",
    "    'catboost': catboost_model\n",
    "}"
   ]
  },
  {
   "cell_type": "code",
   "execution_count": 17,
   "metadata": {},
   "outputs": [
    {
     "name": "stdout",
     "output_type": "stream",
     "text": [
      "rf\n",
      "xgb\n",
      "ltgbm\n",
      "catboost\n"
     ]
    }
   ],
   "source": [
    "results_ensemble_models = {}\n",
    "\n",
    "for name, model in models.items():\n",
    "    print(name)\n",
    "    res=[]\n",
    "    for i, (train_index, test_index) in enumerate(cv.split(X, y)):\n",
    "        X_train, X_test = X.iloc[train_index], X.iloc[test_index]\n",
    "        y_train, y_test = y[train_index], y[test_index]\n",
    "\n",
    "        model.fit(X_train, y_train)\n",
    "        y_pred = model.predict_proba(X_test)#[:, 1].reshape(-1)\n",
    "        res.append(log_loss(y_test, y_pred))\n",
    "    results_ensemble_models[name] = res"
   ]
  },
  {
   "cell_type": "code",
   "execution_count": 18,
   "metadata": {},
   "outputs": [
    {
     "name": "stdout",
     "output_type": "stream",
     "text": [
      "----------\n",
      "rf\n",
      "0.4524705042347875\n",
      "0.010268871384998064\n",
      "----------\n",
      "xgb\n",
      "0.4169351478855834\n",
      "0.009326398997272563\n",
      "----------\n",
      "ltgbm\n",
      "0.41859683835370787\n",
      "0.011281942151841277\n",
      "----------\n",
      "catboost\n",
      "0.43798087389648843\n",
      "0.011490234969515446\n"
     ]
    }
   ],
   "source": [
    "for name, result in results_ensemble_models.items():\n",
    "    print(\"----------\\n\" + name)\n",
    "    print(np.mean(result))\n",
    "    print(np.std(result))"
   ]
  },
  {
   "cell_type": "code",
   "execution_count": 19,
   "metadata": {
    "tags": []
   },
   "outputs": [],
   "source": [
    "final_model = VotingClassifier(estimators=[('xgb', xgb_model),\n",
    "                                           ('lgbm', lgbm_model), \n",
    "                                           ('catboost', catboost_model)],\n",
    "                               voting='soft', \n",
    "                               weights=[.4, .4, .2])"
   ]
  },
  {
   "cell_type": "code",
   "execution_count": 20,
   "metadata": {},
   "outputs": [
    {
     "name": "stdout",
     "output_type": "stream",
     "text": [
      "Log Loss: 0.4136\n"
     ]
    }
   ],
   "source": [
    "results_ensemble = []\n",
    "\n",
    "r_ensemble = abs(cross_val_score(final_model, X, y, scoring='neg_log_loss'))\n",
    "results_ensemble.append(r_ensemble)\n",
    "print(f'Log Loss: {np.mean(results_ensemble).round(4)}')"
   ]
  },
  {
   "cell_type": "code",
   "execution_count": 21,
   "metadata": {},
   "outputs": [
    {
     "data": {
      "text/plain": [
       "VotingClassifier(estimators=[('xgb',\n",
       "                              XGBClassifier(base_score=0.5, booster='gbtree',\n",
       "                                            colsample_bylevel=1,\n",
       "                                            colsample_bynode=1,\n",
       "                                            colsample_bytree=0.10677749949795919,\n",
       "                                            enable_categorical=False,\n",
       "                                            eval_metric='logloss',\n",
       "                                            gamma=1.437410086537951e-09,\n",
       "                                            gpu_id=-1, importance_type=None,\n",
       "                                            interaction_constraints='',\n",
       "                                            learning_rate=0.029422764737469166,\n",
       "                                            max_delta_step=0, max_dep...\n",
       "                              LGBMClassifier(colsample_bytree=0.12198327413783293,\n",
       "                                             learning_rate=0.02169163462617219,\n",
       "                                             max_depth=38, min_child_samples=72,\n",
       "                                             n_estimators=395, num_leaves=95,\n",
       "                                             reg_alpha=2.4245399917324964e-07,\n",
       "                                             reg_lambda=3.515465615561991e-07,\n",
       "                                             subsample=0.8499041194587593,\n",
       "                                             verbose=-1)),\n",
       "                             ('catboost',\n",
       "                              <catboost.core.CatBoostClassifier object at 0x0000013933745448>)],\n",
       "                 voting='soft', weights=[0.4, 0.4, 0.2])"
      ]
     },
     "execution_count": 21,
     "metadata": {},
     "output_type": "execute_result"
    }
   ],
   "source": [
    "final_model.fit(X, y)"
   ]
  },
  {
   "cell_type": "code",
   "execution_count": null,
   "metadata": {},
   "outputs": [],
   "source": [
    "final_predictions = final_model.predict_proba(test_final)\n",
    "\n",
    "res = pd.DataFrame(final_predictions, columns=['Status_C', 'Status_CL', 'Status_D'])\n",
    "res['id'] = test.id\n",
    "res = res[['id', 'Status_C', 'Status_CL', 'Status_D']]\n",
    "res.to_csv('submission.csv', index=False)"
   ]
  },
  {
   "cell_type": "code",
   "execution_count": 16,
   "metadata": {
    "execution": {
     "iopub.execute_input": "2023-12-19T05:22:04.248363Z",
     "iopub.status.busy": "2023-12-19T05:22:04.247914Z",
     "iopub.status.idle": "2023-12-19T05:22:04.308581Z",
     "shell.execute_reply": "2023-12-19T05:22:04.307270Z",
     "shell.execute_reply.started": "2023-12-19T05:22:04.248332Z"
    }
   },
   "outputs": [],
   "source": [
    "# catboost.fit(X, y)\n",
    "# pred = catboost.predict_proba(test_final)\n",
    "\n",
    "# res = pd.DataFrame(pred, columns=['Status_C', 'Status_CL', 'Status_D'])\n",
    "# res['id'] = test.id\n",
    "# res = res[['id', 'Status_C', 'Status_CL', 'Status_D']]\n",
    "# res.to_csv('submission.csv', index=False)"
   ]
  },
  {
   "cell_type": "code",
   "execution_count": null,
   "metadata": {},
   "outputs": [],
   "source": []
  }
 ],
 "metadata": {
  "kaggle": {
   "accelerator": "none",
   "dataSources": [
    {
     "databundleVersionId": 7000181,
     "sourceId": 60893,
     "sourceType": "competition"
    }
   ],
   "dockerImageVersionId": 30626,
   "isGpuEnabled": false,
   "isInternetEnabled": true,
   "language": "python",
   "sourceType": "notebook"
  },
  "kernelspec": {
   "display_name": "Python 3 (ipykernel)",
   "language": "python",
   "name": "python3"
  },
  "language_info": {
   "codemirror_mode": {
    "name": "ipython",
    "version": 3
   },
   "file_extension": ".py",
   "mimetype": "text/x-python",
   "name": "python",
   "nbconvert_exporter": "python",
   "pygments_lexer": "ipython3",
   "version": "3.7.15"
  }
 },
 "nbformat": 4,
 "nbformat_minor": 4
}
